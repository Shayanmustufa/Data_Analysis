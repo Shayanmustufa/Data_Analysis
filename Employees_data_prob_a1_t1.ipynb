{
  "nbformat": 4,
  "nbformat_minor": 0,
  "metadata": {
    "colab": {
      "provenance": [],
      "authorship_tag": "ABX9TyNdl4urWrJdwz8hcsNX62av",
      "include_colab_link": true
    },
    "kernelspec": {
      "name": "python3",
      "display_name": "Python 3"
    },
    "language_info": {
      "name": "python"
    }
  },
  "cells": [
    {
      "cell_type": "markdown",
      "metadata": {
        "id": "view-in-github",
        "colab_type": "text"
      },
      "source": [
        "<a href=\"https://colab.research.google.com/github/Shayanmustufa/Data_Analysis/blob/main/Employees_data_prob_a1_t1.ipynb\" target=\"_parent\"><img src=\"https://colab.research.google.com/assets/colab-badge.svg\" alt=\"Open In Colab\"/></a>"
      ]
    },
    {
      "cell_type": "code",
      "execution_count": null,
      "metadata": {
        "id": "E_BQ2vwkkFeL"
      },
      "outputs": [],
      "source": []
    },
    {
      "cell_type": "code",
      "source": [
        "pip install pandas"
      ],
      "metadata": {
        "colab": {
          "base_uri": "https://localhost:8080/"
        },
        "id": "uVht60LakWyQ",
        "outputId": "40af2fa2-d473-42ed-b36b-b9c571b2f060"
      },
      "execution_count": 14,
      "outputs": [
        {
          "output_type": "stream",
          "name": "stdout",
          "text": [
            "Requirement already satisfied: pandas in /usr/local/lib/python3.11/dist-packages (2.2.2)\n",
            "Requirement already satisfied: numpy>=1.23.2 in /usr/local/lib/python3.11/dist-packages (from pandas) (2.0.2)\n",
            "Requirement already satisfied: python-dateutil>=2.8.2 in /usr/local/lib/python3.11/dist-packages (from pandas) (2.8.2)\n",
            "Requirement already satisfied: pytz>=2020.1 in /usr/local/lib/python3.11/dist-packages (from pandas) (2025.1)\n",
            "Requirement already satisfied: tzdata>=2022.7 in /usr/local/lib/python3.11/dist-packages (from pandas) (2025.1)\n",
            "Requirement already satisfied: six>=1.5 in /usr/local/lib/python3.11/dist-packages (from python-dateutil>=2.8.2->pandas) (1.17.0)\n"
          ]
        }
      ]
    },
    {
      "cell_type": "code",
      "source": [
        "pip install matplotlib"
      ],
      "metadata": {
        "colab": {
          "base_uri": "https://localhost:8080/"
        },
        "id": "6cbb0pLWnZIo",
        "outputId": "5fdf6792-4606-4c6e-b170-f4a01f554fbf"
      },
      "execution_count": 16,
      "outputs": [
        {
          "output_type": "stream",
          "name": "stdout",
          "text": [
            "Requirement already satisfied: matplotlib in /usr/local/lib/python3.11/dist-packages (3.10.0)\n",
            "Requirement already satisfied: contourpy>=1.0.1 in /usr/local/lib/python3.11/dist-packages (from matplotlib) (1.3.1)\n",
            "Requirement already satisfied: cycler>=0.10 in /usr/local/lib/python3.11/dist-packages (from matplotlib) (0.12.1)\n",
            "Requirement already satisfied: fonttools>=4.22.0 in /usr/local/lib/python3.11/dist-packages (from matplotlib) (4.56.0)\n",
            "Requirement already satisfied: kiwisolver>=1.3.1 in /usr/local/lib/python3.11/dist-packages (from matplotlib) (1.4.8)\n",
            "Requirement already satisfied: numpy>=1.23 in /usr/local/lib/python3.11/dist-packages (from matplotlib) (2.0.2)\n",
            "Requirement already satisfied: packaging>=20.0 in /usr/local/lib/python3.11/dist-packages (from matplotlib) (24.2)\n",
            "Requirement already satisfied: pillow>=8 in /usr/local/lib/python3.11/dist-packages (from matplotlib) (11.1.0)\n",
            "Requirement already satisfied: pyparsing>=2.3.1 in /usr/local/lib/python3.11/dist-packages (from matplotlib) (3.2.1)\n",
            "Requirement already satisfied: python-dateutil>=2.7 in /usr/local/lib/python3.11/dist-packages (from matplotlib) (2.8.2)\n",
            "Requirement already satisfied: six>=1.5 in /usr/local/lib/python3.11/dist-packages (from python-dateutil>=2.7->matplotlib) (1.17.0)\n"
          ]
        }
      ]
    },
    {
      "cell_type": "code",
      "source": [
        "import pandas as pd\n"
      ],
      "metadata": {
        "id": "0XonZ5p-kejA"
      },
      "execution_count": 18,
      "outputs": []
    },
    {
      "cell_type": "code",
      "source": [
        "import matplotlib.pyplot as plt\n"
      ],
      "metadata": {
        "id": "S-xufBH3nYDa"
      },
      "execution_count": 20,
      "outputs": []
    },
    {
      "cell_type": "code",
      "source": [
        "data1 = {\n",
        "    \"ID\": [1, 2, 3, 4, 5, 6, 7, 8, 9, 10],\n",
        "    \"Age\": [28, 35, 42, 30, 50, 41, 29, 33, 45, 39],\n",
        "    \"Gender\": [\"Male\", \"Female\", \"Male\", \"Female\", \"Male\", \"Female\", \"Male\", \"Female\", \"Male\", \"Female\"],\n",
        "    \"Department\": [\"IT\", \"HR\", \"Finance\", \"Marketing\", \"Sales\", \"HR\", \"IT\", \"Finance\", \"Sales\", \"Marketing\"],\n",
        "    \"Salary ($)\": [70000, 60000, 90000, 65000, 85000, 62000, 75000, 88000, 87000, 67000],\n",
        "    \"Experience (Years)\": [3, 7, 12, 5, 15, 9, 4, 11, 14, 6],\n",
        "    \"Work Hours/Week\": [40, 38, 45, 42, 50, 37, 39, 44, 48, 41],\n",
        "    \"Projects Completed\": [5, 4, 6, 7, 8, 5, 6, 7, 9, 6],\n",
        "    \"Job Satisfaction (1-10)\": [7, 8, 6, 9, 5, 7, 8, 6, 5, 8],\n",
        "    \"Training Hours\": [20, 15, 18, 25, 12, 16, 22, 20, 14, 19],\n",
        "    \"Promotion Status\": [\"No\", \"Yes\", \"Yes\", \"No\", \"Yes\", \"No\", \"No\", \"Yes\", \"Yes\", \"No\"]\n",
        "}\n",
        "\n",
        "data_frame=pd.DataFrame(data1);\n",
        "print(data_frame)"
      ],
      "metadata": {
        "colab": {
          "base_uri": "https://localhost:8080/"
        },
        "id": "K6Z7dYeqk5r_",
        "outputId": "078c8a6f-5004-4e64-83db-8ce4852396c9"
      },
      "execution_count": 4,
      "outputs": [
        {
          "output_type": "stream",
          "name": "stdout",
          "text": [
            "   ID  Age  Gender Department  Salary ($)  Experience (Years)  \\\n",
            "0   1   28    Male         IT       70000                   3   \n",
            "1   2   35  Female         HR       60000                   7   \n",
            "2   3   42    Male    Finance       90000                  12   \n",
            "3   4   30  Female  Marketing       65000                   5   \n",
            "4   5   50    Male      Sales       85000                  15   \n",
            "5   6   41  Female         HR       62000                   9   \n",
            "6   7   29    Male         IT       75000                   4   \n",
            "7   8   33  Female    Finance       88000                  11   \n",
            "8   9   45    Male      Sales       87000                  14   \n",
            "9  10   39  Female  Marketing       67000                   6   \n",
            "\n",
            "   Work Hours/Week  Projects Completed  Job Satisfaction (1-10)  \\\n",
            "0               40                   5                        7   \n",
            "1               38                   4                        8   \n",
            "2               45                   6                        6   \n",
            "3               42                   7                        9   \n",
            "4               50                   8                        5   \n",
            "5               37                   5                        7   \n",
            "6               39                   6                        8   \n",
            "7               44                   7                        6   \n",
            "8               48                   9                        5   \n",
            "9               41                   6                        8   \n",
            "\n",
            "   Training Hours Promotion Status  \n",
            "0              20               No  \n",
            "1              15              Yes  \n",
            "2              18              Yes  \n",
            "3              25               No  \n",
            "4              12              Yes  \n",
            "5              16               No  \n",
            "6              22               No  \n",
            "7              20              Yes  \n",
            "8              14              Yes  \n",
            "9              19               No  \n"
          ]
        }
      ]
    },
    {
      "cell_type": "code",
      "source": [
        "print(data_frame.shape)"
      ],
      "metadata": {
        "colab": {
          "base_uri": "https://localhost:8080/"
        },
        "id": "VDIQv4kFlZtK",
        "outputId": "fb1f0a8e-0671-4946-d1fd-84b9a61e487c"
      },
      "execution_count": 5,
      "outputs": [
        {
          "output_type": "stream",
          "name": "stdout",
          "text": [
            "(10, 11)\n"
          ]
        }
      ]
    },
    {
      "cell_type": "markdown",
      "source": [
        "Data frame of the data set,and no of rows and columns in the data set."
      ],
      "metadata": {
        "id": "ymvmQNc8tNgA"
      }
    },
    {
      "cell_type": "code",
      "source": [
        "stats_sum=data_frame.describe()"
      ],
      "metadata": {
        "id": "rkGVz3M_loBh"
      },
      "execution_count": 8,
      "outputs": []
    },
    {
      "cell_type": "markdown",
      "source": [
        "Statistical summary for the whole data set."
      ],
      "metadata": {
        "id": "yxjwOGpzs-iW"
      }
    },
    {
      "cell_type": "code",
      "source": [
        "print(stats_sum)"
      ],
      "metadata": {
        "colab": {
          "base_uri": "https://localhost:8080/"
        },
        "id": "NAhyF-f4lurp",
        "outputId": "1ea2282e-bbb4-471c-d8e6-4b5380ca45e3"
      },
      "execution_count": 9,
      "outputs": [
        {
          "output_type": "stream",
          "name": "stdout",
          "text": [
            "             ID        Age    Salary ($)  Experience (Years)  Work Hours/Week  \\\n",
            "count  10.00000  10.000000     10.000000           10.000000        10.000000   \n",
            "mean    5.50000  37.200000  74900.000000            8.600000        42.400000   \n",
            "std     3.02765   7.390685  11647.126493            4.247875         4.299871   \n",
            "min     1.00000  28.000000  60000.000000            3.000000        37.000000   \n",
            "25%     3.25000  30.750000  65500.000000            5.250000        39.250000   \n",
            "50%     5.50000  37.000000  72500.000000            8.000000        41.500000   \n",
            "75%     7.75000  41.750000  86500.000000           11.750000        44.750000   \n",
            "max    10.00000  50.000000  90000.000000           15.000000        50.000000   \n",
            "\n",
            "       Projects Completed  Job Satisfaction (1-10)  Training Hours  \n",
            "count           10.000000                 10.00000       10.000000  \n",
            "mean             6.300000                  6.90000       18.100000  \n",
            "std              1.494434                  1.37032        3.928528  \n",
            "min              4.000000                  5.00000       12.000000  \n",
            "25%              5.250000                  6.00000       15.250000  \n",
            "50%              6.000000                  7.00000       18.500000  \n",
            "75%              7.000000                  8.00000       20.000000  \n",
            "max              9.000000                  9.00000       25.000000  \n"
          ]
        }
      ]
    },
    {
      "cell_type": "code",
      "source": [
        "distinct_1=data_frame.nunique()"
      ],
      "metadata": {
        "id": "xLqs2Apdl4DS"
      },
      "execution_count": 10,
      "outputs": []
    },
    {
      "cell_type": "code",
      "source": [
        "print(distinct_1)"
      ],
      "metadata": {
        "colab": {
          "base_uri": "https://localhost:8080/"
        },
        "id": "Gs-mUfOumQDf",
        "outputId": "4980a343-567e-4222-9d56-91f7f25b7d1d"
      },
      "execution_count": 11,
      "outputs": [
        {
          "output_type": "stream",
          "name": "stdout",
          "text": [
            "ID                         10\n",
            "Age                        10\n",
            "Gender                      2\n",
            "Department                  5\n",
            "Salary ($)                 10\n",
            "Experience (Years)         10\n",
            "Work Hours/Week            10\n",
            "Projects Completed          6\n",
            "Job Satisfaction (1-10)     5\n",
            "Training Hours              9\n",
            "Promotion Status            2\n",
            "dtype: int64\n"
          ]
        }
      ]
    },
    {
      "cell_type": "markdown",
      "source": [
        "Above we checked for missing values in the data,There are no missing values in the following data."
      ],
      "metadata": {
        "id": "ekAnBKJ7swqO"
      }
    },
    {
      "cell_type": "code",
      "source": [
        "print(data_frame.isnull().values.any())"
      ],
      "metadata": {
        "colab": {
          "base_uri": "https://localhost:8080/"
        },
        "id": "oLoiF__tmQKm",
        "outputId": "5d31cb9c-7dcc-4aae-8ff7-aae940178b5e"
      },
      "execution_count": 21,
      "outputs": [
        {
          "output_type": "stream",
          "name": "stdout",
          "text": [
            "False\n"
          ]
        }
      ]
    },
    {
      "cell_type": "code",
      "source": [
        "plt.figure(figsize=(8,5))\n",
        "plt.hist(data_frame[\"Salary ($)\"],bins=10,color=\"lightblue\",edgecolor=\"grey\")\n",
        "plt.xlabel(\"Salary ($)\")\n",
        "plt.ylabel(\"Frequency\")\n",
        "plt.title(\"Distribution of Salary\")\n",
        "plt.show();"
      ],
      "metadata": {
        "colab": {
          "base_uri": "https://localhost:8080/",
          "height": 487
        },
        "id": "ZgmMfpi9oH4Y",
        "outputId": "a8928169-2ff9-4d1a-8d5e-b714d65515fa"
      },
      "execution_count": 27,
      "outputs": [
        {
          "output_type": "display_data",
          "data": {
            "text/plain": [
              "<Figure size 800x500 with 1 Axes>"
            ],
            "image/png": "[encoded data removed]"
          },
          "metadata": {}
        }
      ]
    },
    {
      "cell_type": "markdown",
      "source": [
        "This is the histogram for distribution of Salaries."
      ],
      "metadata": {
        "id": "kZSLLkkWspvY"
      }
    },
    {
      "cell_type": "code",
      "source": [
        "plt.figure(figsize=(8,5))\n",
        "plt.bar(data_frame[\"Salary ($)\"],bins=10,color=\"lightblue\",edgecolor=\"grey\")\n",
        "plt.xlabel(\"Salary ($)\")\n",
        "plt.ylabel(\"Frequency\")\n",
        "plt.title(\"Distribution of Salary\")\n",
        "plt.show();"
      ],
      "metadata": {
        "id": "0ggFp4jwpSLw"
      },
      "execution_count": null,
      "outputs": []
    },
    {
      "cell_type": "code",
      "source": [
        "counts_1=data_frame[\"Department\"].value_counts()"
      ],
      "metadata": {
        "id": "qNFOqzuQpwhZ"
      },
      "execution_count": 28,
      "outputs": []
    },
    {
      "cell_type": "code",
      "source": [
        "plt.figure(figsize=(8,6))\n",
        "plt.bar(counts_1.index,counts_1.values,color=\"Darkblue\")\n",
        "plt.xlabel(\"Departments\")\n",
        "plt.ylabel(\"No of Employees\")\n",
        "plt.title(\"Employee Count per Department\")\n",
        "plt.xticks(rotation=50)\n",
        "plt.show()"
      ],
      "metadata": {
        "colab": {
          "base_uri": "https://localhost:8080/",
          "height": 612
        },
        "id": "348aj1QAp6Qn",
        "outputId": "e0a739a5-8dbf-4245-b21f-3dc5f6dfcfce"
      },
      "execution_count": 29,
      "outputs": [
        {
          "output_type": "display_data",
          "data": {
            "text/plain": [
              "<Figure size 800x600 with 1 Axes>"
            ],
            "image/png": "[encoded data removed]"
          },
          "metadata": {}
        }
      ]
    },
    {
      "cell_type": "markdown",
      "source": [
        "Here,this bar graph is used to analyze no of employees per department."
      ],
      "metadata": {
        "id": "ac_NIFxMsh9I"
      }
    },
    {
      "cell_type": "code",
      "source": [
        "pip install seaborn\n"
      ],
      "metadata": {
        "colab": {
          "base_uri": "https://localhost:8080/"
        },
        "id": "_y7u0U1zrNmj",
        "outputId": "6eb4b836-527d-48e7-9c5b-1cdaa7df7f09"
      },
      "execution_count": 30,
      "outputs": [
        {
          "output_type": "stream",
          "name": "stdout",
          "text": [
            "Requirement already satisfied: seaborn in /usr/local/lib/python3.11/dist-packages (0.13.2)\n",
            "Requirement already satisfied: numpy!=1.24.0,>=1.20 in /usr/local/lib/python3.11/dist-packages (from seaborn) (2.0.2)\n",
            "Requirement already satisfied: pandas>=1.2 in /usr/local/lib/python3.11/dist-packages (from seaborn) (2.2.2)\n",
            "Requirement already satisfied: matplotlib!=3.6.1,>=3.4 in /usr/local/lib/python3.11/dist-packages (from seaborn) (3.10.0)\n",
            "Requirement already satisfied: contourpy>=1.0.1 in /usr/local/lib/python3.11/dist-packages (from matplotlib!=3.6.1,>=3.4->seaborn) (1.3.1)\n",
            "Requirement already satisfied: cycler>=0.10 in /usr/local/lib/python3.11/dist-packages (from matplotlib!=3.6.1,>=3.4->seaborn) (0.12.1)\n",
            "Requirement already satisfied: fonttools>=4.22.0 in /usr/local/lib/python3.11/dist-packages (from matplotlib!=3.6.1,>=3.4->seaborn) (4.56.0)\n",
            "Requirement already satisfied: kiwisolver>=1.3.1 in /usr/local/lib/python3.11/dist-packages (from matplotlib!=3.6.1,>=3.4->seaborn) (1.4.8)\n",
            "Requirement already satisfied: packaging>=20.0 in /usr/local/lib/python3.11/dist-packages (from matplotlib!=3.6.1,>=3.4->seaborn) (24.2)\n",
            "Requirement already satisfied: pillow>=8 in /usr/local/lib/python3.11/dist-packages (from matplotlib!=3.6.1,>=3.4->seaborn) (11.1.0)\n",
            "Requirement already satisfied: pyparsing>=2.3.1 in /usr/local/lib/python3.11/dist-packages (from matplotlib!=3.6.1,>=3.4->seaborn) (3.2.1)\n",
            "Requirement already satisfied: python-dateutil>=2.7 in /usr/local/lib/python3.11/dist-packages (from matplotlib!=3.6.1,>=3.4->seaborn) (2.8.2)\n",
            "Requirement already satisfied: pytz>=2020.1 in /usr/local/lib/python3.11/dist-packages (from pandas>=1.2->seaborn) (2025.1)\n",
            "Requirement already satisfied: tzdata>=2022.7 in /usr/local/lib/python3.11/dist-packages (from pandas>=1.2->seaborn) (2025.1)\n",
            "Requirement already satisfied: six>=1.5 in /usr/local/lib/python3.11/dist-packages (from python-dateutil>=2.7->matplotlib!=3.6.1,>=3.4->seaborn) (1.17.0)\n"
          ]
        }
      ]
    },
    {
      "cell_type": "code",
      "source": [
        "import seaborn as sns"
      ],
      "metadata": {
        "id": "qydCQyj5rSwC"
      },
      "execution_count": 31,
      "outputs": []
    },
    {
      "cell_type": "code",
      "source": [
        "plt.figure(figsize=(8,6))\n",
        "sns.boxplot(y=data_frame[\"Experience (Years)\"],color=\"lightgreen\")\n",
        "plt.title(\"Distribution for Experience\")\n",
        "plt.ylabel(\"Experience(Years) ($) \")\n",
        "plt.show()"
      ],
      "metadata": {
        "colab": {
          "base_uri": "https://localhost:8080/",
          "height": 526
        },
        "id": "IcFMbJTrrHrE",
        "outputId": "a7b37137-0e4a-46f7-d3aa-89ea04d2191f"
      },
      "execution_count": 34,
      "outputs": [
        {
          "output_type": "display_data",
          "data": {
            "text/plain": [
              "<Figure size 800x600 with 1 Axes>"
            ],
            "image/png": "[encoded data removed]"
          },
          "metadata": {}
        }
      ]
    },
    {
      "cell_type": "markdown",
      "source": [
        "Above is the boxplot created using seaborn and matplotlib,here,the no of years of experience is being analyzed."
      ],
      "metadata": {
        "id": "OjWeBsGWsVx7"
      }
    }
  ]
}